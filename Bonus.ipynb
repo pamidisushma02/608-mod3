{
 "cells": [
  {
   "cell_type": "code",
   "execution_count": 3,
   "id": "2f627068-6e99-437e-a8bb-b9c9b124208d",
   "metadata": {},
   "outputs": [
    {
     "name": "stdout",
     "output_type": "stream",
     "text": [
      "[73, 74, 154, 81, 11, 54, 142, 175, 1, 161, 42, 28, 160, 109, 59, 94, 75, 16, 107, 179, 156, 89, 4, 182, 84, 178, 150, 21, 89, 165, 33, 108, 51, 21, 18, 24, 24, 39, 179, 125, 112, 73, 4, 169, 155, 43, 119, 13, 106, 154, 119, 115, 32, 77, 138, 58, 2, 23, 115, 107, 39, 70, 153, 66, 175, 63, 2, 4, 134, 157, 142, 19, 99, 78, 111, 27, 113, 35, 92, 55, 24, 22, 120, 99, 89, 82, 29, 195, 103, 30, 157, 135, 153, 182, 152, 7, 122, 21, 7, 106]\n",
      "Variance:  3170.6156\n",
      "Standard Deviation:  56.30821964864455\n"
     ]
    }
   ],
   "source": [
    "#generating random numbers using numpy ---\n",
    "#Reference below\n",
    "#https://www.geeksforgeeks.org/python-generate-random-numbers-within-a-given-range-and-store-in-a-list/\n",
    "import statistics\n",
    "import numpy as np\n",
    "def Rand(start, end, num):\n",
    "    res = []\n",
    " \n",
    "    for k in range(num):\n",
    "        res.append(np.random.randint(start, end))\n",
    " \n",
    "    return res\n",
    "\n",
    "# Giving some start and end numbers \n",
    "num = 100\n",
    "start = 1\n",
    "end = 200\n",
    "# Calculating the len,sum etc\n",
    "Range = Rand(start,end,num)\n",
    "print(Range)\n",
    "\n",
    "print('Variance: ',statistics.pvariance(Range))\n",
    "print('Standard Deviation: ',statistics.pstdev(Range))"
   ]
  },
  {
   "cell_type": "code",
   "execution_count": null,
   "id": "85a2291c-ec78-4baf-bb39-e6ab8521ca36",
   "metadata": {},
   "outputs": [],
   "source": []
  }
 ],
 "metadata": {
  "kernelspec": {
   "display_name": "Python 3 (ipykernel)",
   "language": "python",
   "name": "python3"
  },
  "language_info": {
   "codemirror_mode": {
    "name": "ipython",
    "version": 3
   },
   "file_extension": ".py",
   "mimetype": "text/x-python",
   "name": "python",
   "nbconvert_exporter": "python",
   "pygments_lexer": "ipython3",
   "version": "3.9.5"
  }
 },
 "nbformat": 4,
 "nbformat_minor": 5
}
