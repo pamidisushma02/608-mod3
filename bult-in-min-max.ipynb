{
 "cells": [
  {
   "cell_type": "code",
   "execution_count": 1,
   "id": "4e6325c6-0b01-4a9c-8b80-75229befd278",
   "metadata": {},
   "outputs": [],
   "source": [
    "def maximum(value1, value2, value3):\n",
    "   ...:     \"\"\"Return the maximum of three values.\"\"\"\n",
    "   ...:     max_value = value1\n",
    "   ...:     if value2 > max_value:\n",
    "   ...:         max_value = value2\n",
    "   ...:     if value3 > max_value:\n",
    "   ...:         max_value = value3\n",
    "   ...:     return max_value\n"
   ]
  },
  {
   "cell_type": "code",
   "execution_count": 2,
   "id": "cb6c0caa-b8b2-4966-8418-a72582692eed",
   "metadata": {},
   "outputs": [
    {
     "data": {
      "text/plain": [
       "36"
      ]
     },
     "execution_count": 2,
     "metadata": {},
     "output_type": "execute_result"
    }
   ],
   "source": [
    "maximum(12,27,36)"
   ]
  },
  {
   "cell_type": "code",
   "execution_count": 5,
   "id": "d63a0c30-5a98-48bf-af80-ab610157f5c5",
   "metadata": {},
   "outputs": [],
   "source": [
    "def minimum(value1, value2, value3, value4):\n",
    "   ...:     \"\"\"Return the minimum of four values.\"\"\"\n",
    "   ...:     min_value = value1\n",
    "   ...:     if value2 < min_value:\n",
    "   ...:         min_value = value2\n",
    "   ...:     if value3 < min_value:\n",
    "   ...:         min_value = value3\n",
    "   ...:     if value4 < min_value:\n",
    "   ...:         min_value = value4 \n",
    "   ...:     return min_value\n",
    "\n"
   ]
  },
  {
   "cell_type": "code",
   "execution_count": 6,
   "id": "22d73d83-1497-416c-b7e4-b3f4fa85b6d3",
   "metadata": {},
   "outputs": [
    {
     "data": {
      "text/plain": [
       "9"
      ]
     },
     "execution_count": 6,
     "metadata": {},
     "output_type": "execute_result"
    }
   ],
   "source": [
    "minimum(15,9,27,14)"
   ]
  },
  {
   "cell_type": "code",
   "execution_count": 7,
   "id": "82643db9-a880-4d2c-9ff7-7d923e2b2ee6",
   "metadata": {},
   "outputs": [
    {
     "data": {
      "text/plain": [
       "9"
      ]
     },
     "execution_count": 7,
     "metadata": {},
     "output_type": "execute_result"
    }
   ],
   "source": [
    "min(15,9,27,14)"
   ]
  },
  {
   "cell_type": "code",
   "execution_count": null,
   "id": "b30075eb-26a7-4c22-af9b-6072ed8ca13e",
   "metadata": {},
   "outputs": [],
   "source": []
  }
 ],
 "metadata": {
  "kernelspec": {
   "display_name": "Python 3 (ipykernel)",
   "language": "python",
   "name": "python3"
  },
  "language_info": {
   "codemirror_mode": {
    "name": "ipython",
    "version": 3
   },
   "file_extension": ".py",
   "mimetype": "text/x-python",
   "name": "python",
   "nbconvert_exporter": "python",
   "pygments_lexer": "ipython3",
   "version": "3.9.5"
  }
 },
 "nbformat": 4,
 "nbformat_minor": 5
}
