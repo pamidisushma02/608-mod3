{
 "cells": [
  {
   "cell_type": "code",
   "execution_count": 1,
   "id": "6fc78efa-1746-443e-929c-fbc88bc53095",
   "metadata": {},
   "outputs": [
    {
     "name": "stdout",
     "output_type": "stream",
     "text": [
      "Tax:  7.5\n",
      "Tip:  20.0\n",
      "Total: 127.49999999999999\n"
     ]
    }
   ],
   "source": [
    "class Purchase(object):\n",
    "    def __init__(self, amount):\n",
    "        self.amount = amount\n",
    "        \n",
    "    def calculateTax(self, taxPercent):\n",
    "        return self.amount*taxPercent/100.0\n",
    "    \n",
    "    def calculateTip(self, tipPercent):\n",
    "        return self.amount*tipPercent/100.0\n",
    "    \n",
    "    def calculateTotal(self, taxPercent, tipPercent):\n",
    "        return self.amount*(1 + taxPercent/100.0 + tipPercent/100.0)\n",
    "    \n",
    "purchase = Purchase(100.0)\n",
    "    \n",
    "taxPercent = 7.5\n",
    "tipPercent = 20.0\n",
    "    \n",
    "tax = purchase.calculateTax(taxPercent)\n",
    "tip = purchase.calculateTip(tipPercent)\n",
    "total = purchase.calculateTotal(taxPercent, tipPercent)\n",
    "    \n",
    "print ('Tax: ',tax)\n",
    "print ('Tip: ',tip)\n",
    "print ('Total:', total)"
   ]
  },
  {
   "cell_type": "code",
   "execution_count": null,
   "id": "a8fec46f-cdbc-435e-9ff1-76021837f038",
   "metadata": {},
   "outputs": [],
   "source": []
  },
  {
   "cell_type": "code",
   "execution_count": null,
   "id": "5ab42b5e-2481-41cd-80ff-9064e78023f1",
   "metadata": {},
   "outputs": [],
   "source": []
  }
 ],
 "metadata": {
  "kernelspec": {
   "display_name": "Python 3 (ipykernel)",
   "language": "python",
   "name": "python3"
  },
  "language_info": {
   "codemirror_mode": {
    "name": "ipython",
    "version": 3
   },
   "file_extension": ".py",
   "mimetype": "text/x-python",
   "name": "python",
   "nbconvert_exporter": "python",
   "pygments_lexer": "ipython3",
   "version": "3.9.5"
  }
 },
 "nbformat": 4,
 "nbformat_minor": 5
}
