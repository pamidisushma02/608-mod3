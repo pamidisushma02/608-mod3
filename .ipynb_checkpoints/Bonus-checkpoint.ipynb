{
 "cells": [
  {
   "cell_type": "code",
   "execution_count": 1,
   "id": "59421c11-8185-41f3-8a6d-1533c33334cd",
   "metadata": {},
   "outputs": [],
   "source": [
    "import statistics"
   ]
  },
  {
   "cell_type": "code",
   "execution_count": 2,
   "id": "c3fe508a-e92d-4841-8582-26f4d83f7efd",
   "metadata": {},
   "outputs": [
    {
     "data": {
      "text/plain": [
       "2.25"
      ]
     },
     "execution_count": 2,
     "metadata": {},
     "output_type": "execute_result"
    }
   ],
   "source": [
    "statistics.pvariance([1, 3, 4, 2, 6, 5, 3, 4, 5, 2])"
   ]
  },
  {
   "cell_type": "code",
   "execution_count": 3,
   "id": "2e42a793-f2e6-4b46-ad42-c7cdae366173",
   "metadata": {},
   "outputs": [
    {
     "data": {
      "text/plain": [
       "1.5"
      ]
     },
     "execution_count": 3,
     "metadata": {},
     "output_type": "execute_result"
    }
   ],
   "source": [
    "statistics.pstdev([1, 3, 4, 2, 6, 5, 3, 4, 5, 2])"
   ]
  },
  {
   "cell_type": "code",
   "execution_count": null,
   "id": "e4f78a7b-8a9d-45f1-91cd-05865e9db8db",
   "metadata": {},
   "outputs": [],
   "source": []
  }
 ],
 "metadata": {
  "kernelspec": {
   "display_name": "Python 3 (ipykernel)",
   "language": "python",
   "name": "python3"
  },
  "language_info": {
   "codemirror_mode": {
    "name": "ipython",
    "version": 3
   },
   "file_extension": ".py",
   "mimetype": "text/x-python",
   "name": "python",
   "nbconvert_exporter": "python",
   "pygments_lexer": "ipython3",
   "version": "3.9.5"
  }
 },
 "nbformat": 4,
 "nbformat_minor": 5
}
