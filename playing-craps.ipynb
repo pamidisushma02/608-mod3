{
 "cells": [
  {
   "cell_type": "code",
   "execution_count": 1,
   "id": "d5dd61d1-7f6d-4456-a39f-fba47b03155f",
   "metadata": {},
   "outputs": [],
   "source": [
    "import random\n"
   ]
  },
  {
   "cell_type": "code",
   "execution_count": 13,
   "id": "b1ea1fb5-f9c0-4f45-a6b4-a467cdd1ad72",
   "metadata": {},
   "outputs": [
    {
     "name": "stdout",
     "output_type": "stream",
     "text": [
      "Face    Frequency\n",
      "   1            0\n",
      "   2       166862\n",
      "   3       333132\n",
      "   4       499505\n",
      "   5       666339\n",
      "   6       834185\n",
      "   7       999146\n",
      "   8       834596\n",
      "   9       666394\n",
      "  10       499833\n",
      "  11       333166\n",
      "  12       166842\n",
      "Craps: 0.11113933333333334\n",
      "Win: 0.222052\n"
     ]
    }
   ],
   "source": [
    "frequency1 = 0\n",
    "frequency2 = 0\n",
    "frequency3 = 0\n",
    "frequency4 = 0\n",
    "frequency5 = 0\n",
    "frequency6 = 0\n",
    "frequency7 = 0\n",
    "frequency8 = 0\n",
    "frequency9 = 0\n",
    "frequency10 = 0\n",
    "frequency11 = 0\n",
    "frequency12 = 0\n",
    "\n",
    "trials = 6_000_000\n",
    "\n",
    "for roll in range(trials):\n",
    "    face = random.randrange(1, 7) + random.randrange(1, 7)\n",
    "   \n",
    "    if face == 1:\n",
    "        frequency1 += 1\n",
    "    elif face == 2:\n",
    "        frequency2 += 1\n",
    "    elif face == 3:\n",
    "        frequency3 += 1\n",
    "    elif face == 4:\n",
    "        frequency4 += 1\n",
    "    elif face == 5:\n",
    "        frequency5 += 1\n",
    "    elif face == 6:\n",
    "        frequency6 += 1\n",
    "    elif face == 7:\n",
    "        frequency7 += 1\n",
    "    elif face == 8:\n",
    "        frequency8 += 1\n",
    "    elif face == 9:\n",
    "        frequency9 += 1\n",
    "    elif face == 10:\n",
    "        frequency10 += 1\n",
    "    elif face == 11:\n",
    "        frequency11 += 1\n",
    "    elif face == 12:\n",
    "        frequency12 += 1\n",
    "        \n",
    "print(f'Face{\"Frequency\":>13}')\n",
    "print(f'{1:>4}{frequency1:>13}')\n",
    "print(f'{2:>4}{frequency2:>13}')\n",
    "print(f'{3:>4}{frequency3:>13}')\n",
    "print(f'{4:>4}{frequency4:>13}')\n",
    "print(f'{5:>4}{frequency5:>13}')\n",
    "print(f'{6:>4}{frequency6:>13}')\n",
    "print(f'{7:>4}{frequency7:>13}')\n",
    "print(f'{8:>4}{frequency8:>13}')\n",
    "print(f'{9:>4}{frequency9:>13}')\n",
    "print(f'{10:>4}{frequency10:>13}')\n",
    "print(f'{11:>4}{frequency11:>13}')\n",
    "print(f'{12:>4}{frequency12:>13}')\n",
    "        \n",
    "craps = frequency2 + frequency3 + frequency12\n",
    "win = frequency7 + frequency11\n",
    "\n",
    "print ('Craps:', craps/trials)\n",
    "print ('Win:', win/trials)\n",
    "       \n",
    "    "
   ]
  },
  {
   "cell_type": "code",
   "execution_count": null,
   "id": "1b852f09-64a8-44bf-982e-d22363a280d7",
   "metadata": {},
   "outputs": [],
   "source": []
  },
  {
   "cell_type": "code",
   "execution_count": null,
   "id": "8399b87a-b333-410b-9312-2faefd94465e",
   "metadata": {},
   "outputs": [],
   "source": []
  }
 ],
 "metadata": {
  "kernelspec": {
   "display_name": "Python 3 (ipykernel)",
   "language": "python",
   "name": "python3"
  },
  "language_info": {
   "codemirror_mode": {
    "name": "ipython",
    "version": 3
   },
   "file_extension": ".py",
   "mimetype": "text/x-python",
   "name": "python",
   "nbconvert_exporter": "python",
   "pygments_lexer": "ipython3",
   "version": "3.9.5"
  }
 },
 "nbformat": 4,
 "nbformat_minor": 5
}
